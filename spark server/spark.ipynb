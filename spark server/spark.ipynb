{
 "cells": [
  {
   "cell_type": "code",
   "execution_count": 7,
   "metadata": {},
   "outputs": [],
   "source": [
    "import pyspark\n",
    "import pandas as pd"
   ]
  },
  {
   "cell_type": "code",
   "execution_count": 5,
   "metadata": {},
   "outputs": [
    {
     "data": {
      "text/html": [
       "<div>\n",
       "<style scoped>\n",
       "    .dataframe tbody tr th:only-of-type {\n",
       "        vertical-align: middle;\n",
       "    }\n",
       "\n",
       "    .dataframe tbody tr th {\n",
       "        vertical-align: top;\n",
       "    }\n",
       "\n",
       "    .dataframe thead th {\n",
       "        text-align: right;\n",
       "    }\n",
       "</style>\n",
       "<table border=\"1\" class=\"dataframe\">\n",
       "  <thead>\n",
       "    <tr style=\"text-align: right;\">\n",
       "      <th></th>\n",
       "      <th>Unnamed: 0</th>\n",
       "      <th>Titles</th>\n",
       "      <th>Links</th>\n",
       "      <th>Nr. of child categories</th>\n",
       "      <th>Nr. of child Pages</th>\n",
       "      <th>Nr. of child files</th>\n",
       "      <th>Expandable</th>\n",
       "    </tr>\n",
       "  </thead>\n",
       "  <tbody>\n",
       "    <tr>\n",
       "      <th>0</th>\n",
       "      <td>0</td>\n",
       "      <td>Communities by Fandom</td>\n",
       "      <td>/wiki/Category:Communities_by_Fandom</td>\n",
       "      <td>28</td>\n",
       "      <td>0</td>\n",
       "      <td>0</td>\n",
       "      <td>True</td>\n",
       "    </tr>\n",
       "    <tr>\n",
       "      <th>1</th>\n",
       "      <td>1</td>\n",
       "      <td>Communities by Year</td>\n",
       "      <td>/wiki/Category:Communities_by_Year</td>\n",
       "      <td>40</td>\n",
       "      <td>0</td>\n",
       "      <td>0</td>\n",
       "      <td>True</td>\n",
       "    </tr>\n",
       "    <tr>\n",
       "      <th>2</th>\n",
       "      <td>2</td>\n",
       "      <td>Discord Servers</td>\n",
       "      <td>/wiki/Category:Discord_Servers</td>\n",
       "      <td>2</td>\n",
       "      <td>31</td>\n",
       "      <td>0</td>\n",
       "      <td>True</td>\n",
       "    </tr>\n",
       "    <tr>\n",
       "      <th>3</th>\n",
       "      <td>3</td>\n",
       "      <td>Fandoms by Source Text</td>\n",
       "      <td>/wiki/Category:Fandoms_by_Source_Text</td>\n",
       "      <td>1489</td>\n",
       "      <td>1074</td>\n",
       "      <td>0</td>\n",
       "      <td>True</td>\n",
       "    </tr>\n",
       "    <tr>\n",
       "      <th>4</th>\n",
       "      <td>4</td>\n",
       "      <td>Fandoms by Canon Type</td>\n",
       "      <td>/wiki/Category:Fandoms_by_Canon_Type</td>\n",
       "      <td>21</td>\n",
       "      <td>53</td>\n",
       "      <td>0</td>\n",
       "      <td>True</td>\n",
       "    </tr>\n",
       "    <tr>\n",
       "      <th>5</th>\n",
       "      <td>5</td>\n",
       "      <td>Fandoms by Community</td>\n",
       "      <td>/wiki/Category:Fandoms_by_Community</td>\n",
       "      <td>75</td>\n",
       "      <td>23</td>\n",
       "      <td>1</td>\n",
       "      <td>True</td>\n",
       "    </tr>\n",
       "    <tr>\n",
       "      <th>6</th>\n",
       "      <td>6</td>\n",
       "      <td>Forums</td>\n",
       "      <td>/wiki/Category:Forums</td>\n",
       "      <td>6</td>\n",
       "      <td>145</td>\n",
       "      <td>29</td>\n",
       "      <td>True</td>\n",
       "    </tr>\n",
       "    <tr>\n",
       "      <th>7</th>\n",
       "      <td>7</td>\n",
       "      <td>Imageboards</td>\n",
       "      <td>/wiki/Category:Imageboards</td>\n",
       "      <td>2</td>\n",
       "      <td>2</td>\n",
       "      <td>0</td>\n",
       "      <td>True</td>\n",
       "    </tr>\n",
       "    <tr>\n",
       "      <th>8</th>\n",
       "      <td>8</td>\n",
       "      <td>Journaling Communities</td>\n",
       "      <td>/wiki/Category:Journaling_Communities</td>\n",
       "      <td>18</td>\n",
       "      <td>1157</td>\n",
       "      <td>21</td>\n",
       "      <td>True</td>\n",
       "    </tr>\n",
       "    <tr>\n",
       "      <th>9</th>\n",
       "      <td>9</td>\n",
       "      <td>Mailing Lists</td>\n",
       "      <td>/wiki/Category:Mailing_Lists</td>\n",
       "      <td>27</td>\n",
       "      <td>816</td>\n",
       "      <td>0</td>\n",
       "      <td>True</td>\n",
       "    </tr>\n",
       "    <tr>\n",
       "      <th>10</th>\n",
       "      <td>10</td>\n",
       "      <td>Microblogs</td>\n",
       "      <td>/wiki/Category:Microblogs</td>\n",
       "      <td>2</td>\n",
       "      <td>12</td>\n",
       "      <td>20</td>\n",
       "      <td>True</td>\n",
       "    </tr>\n",
       "    <tr>\n",
       "      <th>11</th>\n",
       "      <td>11</td>\n",
       "      <td>Multimedia Communities</td>\n",
       "      <td>/wiki/Category:Multimedia_Communities</td>\n",
       "      <td>0</td>\n",
       "      <td>2</td>\n",
       "      <td>0</td>\n",
       "      <td>False</td>\n",
       "    </tr>\n",
       "    <tr>\n",
       "      <th>12</th>\n",
       "      <td>12</td>\n",
       "      <td>Newsgroups</td>\n",
       "      <td>/wiki/Category:Newsgroups</td>\n",
       "      <td>4</td>\n",
       "      <td>49</td>\n",
       "      <td>0</td>\n",
       "      <td>True</td>\n",
       "    </tr>\n",
       "    <tr>\n",
       "      <th>13</th>\n",
       "      <td>13</td>\n",
       "      <td>Offline Spaces</td>\n",
       "      <td>/wiki/Category:Offline_Spaces</td>\n",
       "      <td>6</td>\n",
       "      <td>18</td>\n",
       "      <td>11</td>\n",
       "      <td>True</td>\n",
       "    </tr>\n",
       "    <tr>\n",
       "      <th>14</th>\n",
       "      <td>14</td>\n",
       "      <td>Social Networking</td>\n",
       "      <td>/wiki/Category:Social_Networking</td>\n",
       "      <td>5</td>\n",
       "      <td>63</td>\n",
       "      <td>12</td>\n",
       "      <td>True</td>\n",
       "    </tr>\n",
       "    <tr>\n",
       "      <th>15</th>\n",
       "      <td>15</td>\n",
       "      <td>Subreddits</td>\n",
       "      <td>/wiki/Category:Subreddits</td>\n",
       "      <td>0</td>\n",
       "      <td>33</td>\n",
       "      <td>0</td>\n",
       "      <td>False</td>\n",
       "    </tr>\n",
       "    <tr>\n",
       "      <th>16</th>\n",
       "      <td>16</td>\n",
       "      <td>Websites</td>\n",
       "      <td>/wiki/Category:Websites</td>\n",
       "      <td>86</td>\n",
       "      <td>1595</td>\n",
       "      <td>275</td>\n",
       "      <td>True</td>\n",
       "    </tr>\n",
       "  </tbody>\n",
       "</table>\n",
       "</div>"
      ],
      "text/plain": [
       "    Unnamed: 0                  Titles                                  Links  \\\n",
       "0            0   Communities by Fandom   /wiki/Category:Communities_by_Fandom   \n",
       "1            1     Communities by Year     /wiki/Category:Communities_by_Year   \n",
       "2            2         Discord Servers         /wiki/Category:Discord_Servers   \n",
       "3            3  Fandoms by Source Text  /wiki/Category:Fandoms_by_Source_Text   \n",
       "4            4   Fandoms by Canon Type   /wiki/Category:Fandoms_by_Canon_Type   \n",
       "5            5    Fandoms by Community    /wiki/Category:Fandoms_by_Community   \n",
       "6            6                  Forums                  /wiki/Category:Forums   \n",
       "7            7             Imageboards             /wiki/Category:Imageboards   \n",
       "8            8  Journaling Communities  /wiki/Category:Journaling_Communities   \n",
       "9            9           Mailing Lists           /wiki/Category:Mailing_Lists   \n",
       "10          10              Microblogs              /wiki/Category:Microblogs   \n",
       "11          11  Multimedia Communities  /wiki/Category:Multimedia_Communities   \n",
       "12          12              Newsgroups              /wiki/Category:Newsgroups   \n",
       "13          13          Offline Spaces          /wiki/Category:Offline_Spaces   \n",
       "14          14       Social Networking       /wiki/Category:Social_Networking   \n",
       "15          15              Subreddits              /wiki/Category:Subreddits   \n",
       "16          16                Websites                /wiki/Category:Websites   \n",
       "\n",
       "    Nr. of child categories  Nr. of child Pages  Nr. of child files  \\\n",
       "0                        28                   0                   0   \n",
       "1                        40                   0                   0   \n",
       "2                         2                  31                   0   \n",
       "3                      1489                1074                   0   \n",
       "4                        21                  53                   0   \n",
       "5                        75                  23                   1   \n",
       "6                         6                 145                  29   \n",
       "7                         2                   2                   0   \n",
       "8                        18                1157                  21   \n",
       "9                        27                 816                   0   \n",
       "10                        2                  12                  20   \n",
       "11                        0                   2                   0   \n",
       "12                        4                  49                   0   \n",
       "13                        6                  18                  11   \n",
       "14                        5                  63                  12   \n",
       "15                        0                  33                   0   \n",
       "16                       86                1595                 275   \n",
       "\n",
       "    Expandable  \n",
       "0         True  \n",
       "1         True  \n",
       "2         True  \n",
       "3         True  \n",
       "4         True  \n",
       "5         True  \n",
       "6         True  \n",
       "7         True  \n",
       "8         True  \n",
       "9         True  \n",
       "10        True  \n",
       "11       False  \n",
       "12        True  \n",
       "13        True  \n",
       "14        True  \n",
       "15       False  \n",
       "16        True  "
      ]
     },
     "execution_count": 5,
     "metadata": {},
     "output_type": "execute_result"
    }
   ],
   "source": [
    "pd.read_csv('../dataframes/Sub_Communities.csv')\n",
    "pd.read_csv('../dataframes/Fan_Communities.csv')"
   ]
  },
  {
   "cell_type": "code",
   "execution_count": 8,
   "metadata": {},
   "outputs": [],
   "source": [
    "from pyspark.sql import SparkSession\n",
    "\n",
    "spark=SparkSession.builder.appName('Data Storage').getOrCreate()"
   ]
  },
  {
   "cell_type": "code",
   "execution_count": 9,
   "metadata": {},
   "outputs": [
    {
     "data": {
      "text/html": [
       "\n",
       "            <div>\n",
       "                <p><b>SparkSession - in-memory</b></p>\n",
       "                \n",
       "        <div>\n",
       "            <p><b>SparkContext</b></p>\n",
       "\n",
       "            <p><a href=\"http://DESKTOP-PJS899E:4040\">Spark UI</a></p>\n",
       "\n",
       "            <dl>\n",
       "              <dt>Version</dt>\n",
       "                <dd><code>v3.5.1</code></dd>\n",
       "              <dt>Master</dt>\n",
       "                <dd><code>local[*]</code></dd>\n",
       "              <dt>AppName</dt>\n",
       "                <dd><code>Data Storage</code></dd>\n",
       "            </dl>\n",
       "        </div>\n",
       "        \n",
       "            </div>\n",
       "        "
      ],
      "text/plain": [
       "<pyspark.sql.session.SparkSession at 0x2ae06de9a90>"
      ]
     },
     "execution_count": 9,
     "metadata": {},
     "output_type": "execute_result"
    }
   ],
   "source": [
    "spark"
   ]
  },
  {
   "cell_type": "code",
   "execution_count": 16,
   "metadata": {},
   "outputs": [],
   "source": [
    "#data acquisition\n",
    "\n",
    "df_pyspark = spark.read.csv('../dataframes/Sub_Communities.csv', header=True)"
   ]
  },
  {
   "cell_type": "code",
   "execution_count": 17,
   "metadata": {},
   "outputs": [
    {
     "name": "stdout",
     "output_type": "stream",
     "text": [
      "+---+--------------------+--------------------+-----------------------+------------------+------------------+----------+\n",
      "|_c0|              Titles|               Links|Nr. of child categories|Nr. of child Pages|Nr. of child files|Expandable|\n",
      "+---+--------------------+--------------------+-----------------------+------------------+------------------+----------+\n",
      "|  0|Communities by Fa...|/wiki/Category:Co...|                     28|                 0|                 0|      True|\n",
      "|  1| Communities by Year|/wiki/Category:Co...|                     40|                 0|                 0|      True|\n",
      "|  2|     Discord Servers|/wiki/Category:Di...|                      2|                31|                 0|      True|\n",
      "|  3|Fandoms by Source...|/wiki/Category:Fa...|                   1489|              1074|                 0|      True|\n",
      "|  4|Fandoms by Canon ...|/wiki/Category:Fa...|                     21|                53|                 0|      True|\n",
      "|  5|Fandoms by Community|/wiki/Category:Fa...|                     75|                23|                 1|      True|\n",
      "|  6|              Forums|/wiki/Category:Fo...|                      6|               145|                29|      True|\n",
      "|  7|         Imageboards|/wiki/Category:Im...|                      2|                 2|                 0|      True|\n",
      "|  8|Journaling Commun...|/wiki/Category:Jo...|                     18|              1157|                21|      True|\n",
      "|  9|       Mailing Lists|/wiki/Category:Ma...|                     27|               816|                 0|      True|\n",
      "| 10|          Microblogs|/wiki/Category:Mi...|                      2|                12|                20|      True|\n",
      "| 11|Multimedia Commun...|/wiki/Category:Mu...|                      0|                 2|                 0|     False|\n",
      "| 12|          Newsgroups|/wiki/Category:Ne...|                      4|                49|                 0|      True|\n",
      "| 13|      Offline Spaces|/wiki/Category:Of...|                      6|                18|                11|      True|\n",
      "| 14|   Social Networking|/wiki/Category:So...|                      5|                63|                12|      True|\n",
      "| 15|          Subreddits|/wiki/Category:Su...|                      0|                33|                 0|     False|\n",
      "| 16|            Websites|/wiki/Category:We...|                     86|              1595|               275|      True|\n",
      "+---+--------------------+--------------------+-----------------------+------------------+------------------+----------+\n",
      "\n"
     ]
    }
   ],
   "source": [
    "df_pyspark.show()"
   ]
  },
  {
   "cell_type": "code",
   "execution_count": 18,
   "metadata": {},
   "outputs": [
    {
     "name": "stdout",
     "output_type": "stream",
     "text": [
      "root\n",
      " |-- _c0: string (nullable = true)\n",
      " |-- Titles: string (nullable = true)\n",
      " |-- Links: string (nullable = true)\n",
      " |-- Nr. of child categories: string (nullable = true)\n",
      " |-- Nr. of child Pages: string (nullable = true)\n",
      " |-- Nr. of child files: string (nullable = true)\n",
      " |-- Expandable: string (nullable = true)\n",
      "\n"
     ]
    }
   ],
   "source": [
    "df_pyspark.printSchema()"
   ]
  },
  {
   "cell_type": "code",
   "execution_count": 19,
   "metadata": {},
   "outputs": [
    {
     "data": {
      "text/plain": [
       "Column<'Links'>"
      ]
     },
     "execution_count": 19,
     "metadata": {},
     "output_type": "execute_result"
    }
   ],
   "source": [
    "df_pyspark['Links']"
   ]
  },
  {
   "cell_type": "code",
   "execution_count": 20,
   "metadata": {},
   "outputs": [
    {
     "data": {
      "text/plain": [
       "[('_c0', 'string'),\n",
       " ('Titles', 'string'),\n",
       " ('Links', 'string'),\n",
       " ('Nr. of child categories', 'string'),\n",
       " ('Nr. of child Pages', 'string'),\n",
       " ('Nr. of child files', 'string'),\n",
       " ('Expandable', 'string')]"
      ]
     },
     "execution_count": 20,
     "metadata": {},
     "output_type": "execute_result"
    }
   ],
   "source": [
    "df_pyspark.dtypes"
   ]
  },
  {
   "cell_type": "code",
   "execution_count": 21,
   "metadata": {},
   "outputs": [],
   "source": [
    "df_pyspark2 = spark.read.csv('../dataframes/Fan_Communities.csv', header=True)"
   ]
  },
  {
   "cell_type": "code",
   "execution_count": 22,
   "metadata": {},
   "outputs": [
    {
     "data": {
      "text/plain": [
       "DataFrame[_c0: string, Titles: string, Links: string, Parent Category: string, Sum of Characters: string]"
      ]
     },
     "execution_count": 22,
     "metadata": {},
     "output_type": "execute_result"
    }
   ],
   "source": [
    "df_pyspark2"
   ]
  },
  {
   "cell_type": "code",
   "execution_count": 23,
   "metadata": {},
   "outputs": [
    {
     "name": "stdout",
     "output_type": "stream",
     "text": [
      "+---+--------------------+--------------------+---------------+-----------------+\n",
      "|_c0|              Titles|               Links|Parent Category|Sum of Characters|\n",
      "+---+--------------------+--------------------+---------------+-----------------+\n",
      "|  0|  2 Builders 2 Tools|/wiki/2_Builders_...|              2|             21.0|\n",
      "|  1|  A A Sonic Shipping|/wiki/A_A_Sonic_S...|              A|             19.0|\n",
      "|  2|        Aarinfantasy|  /wiki/Aarinfantasy|              A|             15.0|\n",
      "|  3|       TheAD'sOffice|/wiki/TheAD%27sOf...|              A|             22.0|\n",
      "|  4|         Akte X Fans|   /wiki/Akte_X_Fans|              A|             21.0|\n",
      "|  5|      Anti-ZADR-Club|/wiki/Anti-ZADR-Club|              A|             20.0|\n",
      "|  6|       Arrows Online| /wiki/Arrows_Online|              A|              6.0|\n",
      "|  7|As Others See Us:...|/wiki/As_Others_S...|              A|             11.0|\n",
      "|  8|Assassin's Creed ...|/wiki/Assassin%27...|              A|             22.0|\n",
      "|  9|         The Balance|   /wiki/The_Balance|              B|             13.0|\n",
      "| 10|              Baraag|        /wiki/Baraag|              B|             10.0|\n",
      "| 11|    Bay City Library|/wiki/Bay_City_Li...|              B|             22.0|\n",
      "| 12|       Berries.space| /wiki/Berries.space|              B|             10.0|\n",
      "| 13|Beyond Atlantis V...|/wiki/Beyond_Atla...|              B|             14.0|\n",
      "| 14|   Big Light Network|/wiki/Big_Light_N...|              B|             17.0|\n",
      "| 15|        Bit of Earth|  /wiki/Bit_of_Earth|              B|             10.0|\n",
      "| 16|Blame Taylor (Fac...|/wiki/Blame_Taylo...|              B|              8.0|\n",
      "| 17|Bloody Awful Poet...|/wiki/Bloody_Awfu...|              B|             NULL|\n",
      "| 18|        Brickfilming|  /wiki/Brickfilming|              B|             NULL|\n",
      "| 19|    Bring It Fanfics|/wiki/Bring_It_Fa...|              B|             NULL|\n",
      "+---+--------------------+--------------------+---------------+-----------------+\n",
      "only showing top 20 rows\n",
      "\n"
     ]
    }
   ],
   "source": [
    "df_pyspark2.show()"
   ]
  },
  {
   "cell_type": "code",
   "execution_count": null,
   "metadata": {},
   "outputs": [],
   "source": [
    "pyspark"
   ]
  }
 ],
 "metadata": {
  "kernelspec": {
   "display_name": "Python 3",
   "language": "python",
   "name": "python3"
  },
  "language_info": {
   "codemirror_mode": {
    "name": "ipython",
    "version": 3
   },
   "file_extension": ".py",
   "mimetype": "text/x-python",
   "name": "python",
   "nbconvert_exporter": "python",
   "pygments_lexer": "ipython3",
   "version": "3.11.4"
  }
 },
 "nbformat": 4,
 "nbformat_minor": 2
}
